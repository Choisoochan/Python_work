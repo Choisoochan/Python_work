{
 "cells": [
  {
   "cell_type": "markdown",
   "metadata": {},
   "source": [
    "# 1.라이브러리 불러오기"
   ]
  },
  {
   "cell_type": "code",
   "execution_count": null,
   "metadata": {},
   "outputs": [],
   "source": [
    "from datetime import datetime as dt\n",
    "currentDate = dt.now()"
   ]
  },
  {
   "cell_type": "markdown",
   "metadata": {},
   "source": [
    "# 2.시간, 분 정보 불러오기"
   ]
  },
  {
   "cell_type": "code",
   "execution_count": null,
   "metadata": {},
   "outputs": [],
   "source": [
    "hourVar= currentDate.hour\n",
    "minutesVar = currentDate.minute\n",
    "\n",
    "print(hourVar)\n",
    "print(minutesVar)"
   ]
  },
  {
   "cell_type": "markdown",
   "metadata": {},
   "source": [
    "# 3. 변수의 합 출력"
   ]
  },
  {
   "cell_type": "code",
   "execution_count": null,
   "metadata": {},
   "outputs": [],
   "source": [
    "answer=hourVar+minutesVar\n",
    "print(answer)"
   ]
  },
  {
   "cell_type": "markdown",
   "metadata": {},
   "source": [
    "# 4.Type"
   ]
  },
  {
   "cell_type": "code",
   "execution_count": 2,
   "metadata": {},
   "outputs": [],
   "source": [
    "a=123"
   ]
  },
  {
   "cell_type": "code",
   "execution_count": 3,
   "metadata": {},
   "outputs": [],
   "source": [
    "b=\"123\""
   ]
  },
  {
   "cell_type": "code",
   "execution_count": 8,
   "metadata": {},
   "outputs": [
    {
     "data": {
      "text/plain": [
       "int"
      ]
     },
     "execution_count": 8,
     "metadata": {},
     "output_type": "execute_result"
    }
   ],
   "source": [
    "type(a)"
   ]
  },
  {
   "cell_type": "code",
   "execution_count": 9,
   "metadata": {},
   "outputs": [
    {
     "data": {
      "text/plain": [
       "str"
      ]
     },
     "execution_count": 9,
     "metadata": {},
     "output_type": "execute_result"
    }
   ],
   "source": [
    "type(b)"
   ]
  },
  {
   "cell_type": "markdown",
   "metadata": {},
   "source": [
    "# 5.문자열 더하기"
   ]
  },
  {
   "cell_type": "code",
   "execution_count": 11,
   "metadata": {},
   "outputs": [
    {
     "name": "stdout",
     "output_type": "stream",
     "text": [
      "fintech student\n"
     ]
    }
   ],
   "source": [
    "head = \"fintech\"\n",
    "tail = \"student\"\n",
    "fullstring = head+\" \"+tail\n",
    "print(fullstring)"
   ]
  },
  {
   "cell_type": "markdown",
   "metadata": {},
   "source": [
    "# 6.문자열 곱하기"
   ]
  },
  {
   "cell_type": "code",
   "execution_count": 14,
   "metadata": {},
   "outputs": [
    {
     "data": {
      "text/plain": [
       "'****************************************************************************************************'"
      ]
     },
     "execution_count": 14,
     "metadata": {},
     "output_type": "execute_result"
    }
   ],
   "source": [
    "starChar = \"*\"\n",
    "starMul = \"*\"*100\n",
    "starMul"
   ]
  },
  {
   "cell_type": "markdown",
   "metadata": {},
   "source": [
    "# 7.문자열 인덱싱"
   ]
  },
  {
   "cell_type": "code",
   "execution_count": 17,
   "metadata": {},
   "outputs": [
    {
     "name": "stdout",
     "output_type": "stream",
     "text": [
      "2\n",
      "2018\n",
      "01\n"
     ]
    }
   ],
   "source": [
    "yearweek = \"201801\"\n",
    "print(yearweek[0])      #첫번째 문자열\n",
    "print(yearweek[0:4])    #0~4번째 전 문자열 (파이썬에서는 첫번째 숫자 이상 마지막 숫자 미만)\n",
    "print(yearweek[4:])     #4번째 부터 끝까지"
   ]
  },
  {
   "cell_type": "markdown",
   "metadata": {},
   "source": [
    "# 8. 문자열 카운팅"
   ]
  },
  {
   "cell_type": "code",
   "execution_count": 20,
   "metadata": {},
   "outputs": [
    {
     "name": "stdout",
     "output_type": "stream",
     "text": [
      "1\n"
     ]
    }
   ],
   "source": [
    "yearweek = \"2017W28\"\n",
    "print(yearweek.count('W'))"
   ]
  },
  {
   "cell_type": "markdown",
   "metadata": {},
   "source": [
    "# 9.문자열 위치확인"
   ]
  },
  {
   "cell_type": "code",
   "execution_count": 38,
   "metadata": {},
   "outputs": [
    {
     "name": "stdout",
     "output_type": "stream",
     "text": [
      "4\n",
      "['201728']\n"
     ]
    }
   ],
   "source": [
    "print(yearweek.index('W'))\n",
    "delimeter = yearweek.index('W')\n",
    "yearweek_new = yearweek[:delimeter]+yearweek[delimeter+1:]\n",
    "print([yearweek_new])"
   ]
  },
  {
   "cell_type": "markdown",
   "metadata": {},
   "source": [
    "# 10. split 함수"
   ]
  },
  {
   "cell_type": "code",
   "execution_count": 29,
   "metadata": {},
   "outputs": [
    {
     "name": "stdout",
     "output_type": "stream",
     "text": [
      "['2017', '28']\n"
     ]
    }
   ],
   "source": [
    "yearweek_list = yearweek.split(\"W\")\n",
    "print(yearweek_list)"
   ]
  },
  {
   "cell_type": "code",
   "execution_count": 35,
   "metadata": {},
   "outputs": [
    {
     "data": {
      "text/plain": [
       "list"
      ]
     },
     "execution_count": 35,
     "metadata": {},
     "output_type": "execute_result"
    }
   ],
   "source": [
    "type(yearweek_list)"
   ]
  },
  {
   "cell_type": "code",
   "execution_count": 36,
   "metadata": {},
   "outputs": [
    {
     "data": {
      "text/plain": [
       "'2017w28'"
      ]
     },
     "execution_count": 36,
     "metadata": {},
     "output_type": "execute_result"
    }
   ],
   "source": [
    "yearweek.lower()"
   ]
  },
  {
   "cell_type": "markdown",
   "metadata": {},
   "source": [
    "# 11.실습"
   ]
  },
  {
   "cell_type": "code",
   "execution_count": 116,
   "metadata": {},
   "outputs": [
    {
     "name": "stdout",
     "output_type": "stream",
     "text": [
      "SEC 20180212  250\n"
     ]
    }
   ],
   "source": [
    "totalVal = \"SEC 20180212 250\"\n",
    "\n",
    "blank1 = totalVal.index(\" \")\n",
    "blank2 = totalVal.index(\" \", 4)\n",
    "\n",
    "stockName = totalVal[0:blank1]\n",
    "date = totalVal[blank1+1:blank2]\n",
    "value = totalVal[blank2:]\n",
    "\n",
    "print(stockName, date, value)"
   ]
  },
  {
   "cell_type": "code",
   "execution_count": 111,
   "metadata": {},
   "outputs": [
    {
     "name": "stdout",
     "output_type": "stream",
     "text": [
      "SEC 201828 250\n"
     ]
    }
   ],
   "source": [
    "totalVal = \"Sec 2018W28 250\"\n",
    "\n",
    "blank1 = totalVal.index(\" \")\n",
    "blank2 = totalVal.index(\" \", 4)\n",
    "\n",
    "stockName = totalVal[0:blank1].upper()\n",
    "date = totalVal[blank1+1:blank2].replace(\"W\", \"\")\n",
    "value = totalVal[blank2+1:]\n",
    "                 \n",
    "print(stockName, date, value)"
   ]
  },
  {
   "cell_type": "markdown",
   "metadata": {},
   "source": [
    "# 12. List 문제풀이"
   ]
  },
  {
   "cell_type": "code",
   "execution_count": 152,
   "metadata": {},
   "outputs": [
    {
     "name": "stdout",
     "output_type": "stream",
     "text": [
      "[120, 150, 300, 500, 1000]\n",
      "2070\n",
      "5\n",
      "414.0\n"
     ]
    }
   ],
   "source": [
    "#리스트 선언 및 정렬\n",
    "numList = [120, 150, 300, 500, 1000, 100, 2000]\n",
    "numList.sort(reverse = False)\n",
    "\n",
    "#리스트의 최소,최대값 저장\n",
    "minList = min(numList)\n",
    "maxList = max(numList)\n",
    "\n",
    "#최소, 최대값 삭제\n",
    "numList.remove(minList)\n",
    "numList.remove(maxList)\n",
    "\n",
    "#리스트의 길이,인덱스 값들의 합 저장\n",
    "avgMother = len(numList)\n",
    "sumList = sum(numList)\n",
    "\n",
    "#평균변수 선언\n",
    "average = sumList/avgMother\n",
    "\n",
    "#값 출력\n",
    "print(numList)\n",
    "print(sumList)\n",
    "print(avgMother)\n",
    "print(average)\n",
    "\n"
   ]
  },
  {
   "cell_type": "markdown",
   "metadata": {},
   "source": [
    "# 13. List문제풀이2"
   ]
  },
  {
   "cell_type": "code",
   "execution_count": 8,
   "metadata": {},
   "outputs": [
    {
     "name": "stdout",
     "output_type": "stream",
     "text": [
      "[120, 150, 300, 500, 1000]\n",
      "2070\n",
      "5\n",
      "414.0\n"
     ]
    }
   ],
   "source": [
    "#리스트 선언 및 정렬\n",
    "numList = [120, 150, 300, 500, 1000, 100, 2000]\n",
    "numList.sort(reverse = False)\n",
    "\n",
    "#최소,최대값 삭제\n",
    "del numList[0]\n",
    "del numList[len(numList)-1]\n",
    "\n",
    "\n",
    "#리스트의 길이\n",
    "avgMother = len(numList) \n",
    "\n",
    "#리스트의 합\n",
    "sumList = sum(numList)\n",
    "\n",
    "#평균변수 선언\n",
    "average = sumList/avgMother\n",
    "\n",
    "#값 출력\n",
    "print(numList)\n",
    "print(sumList)\n",
    "print(avgMother)\n",
    "print(average)"
   ]
  },
  {
   "cell_type": "markdown",
   "metadata": {},
   "source": [
    "# 14. 딕셔너리"
   ]
  },
  {
   "cell_type": "code",
   "execution_count": 9,
   "metadata": {},
   "outputs": [
    {
     "data": {
      "text/plain": [
       "{'name': 'sec', 'value': 30000, 'address': 'suwon'}"
      ]
     },
     "execution_count": 9,
     "metadata": {},
     "output_type": "execute_result"
    }
   ],
   "source": [
    "d=dict(name=\"sec\", value=30000, address=\"suwon\")\n",
    "d"
   ]
  },
  {
   "cell_type": "code",
   "execution_count": 10,
   "metadata": {},
   "outputs": [
    {
     "data": {
      "text/plain": [
       "'0.2'"
      ]
     },
     "execution_count": 10,
     "metadata": {},
     "output_type": "execute_result"
    }
   ],
   "source": [
    "dict2 = {\"201701\":\"0.2\", \"201702\":\"0.5\", \"201703\":\"07\"}\n",
    "dict2[\"201701\"]"
   ]
  },
  {
   "cell_type": "code",
   "execution_count": null,
   "metadata": {},
   "outputs": [],
   "source": []
  },
  {
   "cell_type": "code",
   "execution_count": null,
   "metadata": {},
   "outputs": [],
   "source": []
  },
  {
   "cell_type": "code",
   "execution_count": null,
   "metadata": {},
   "outputs": [],
   "source": []
  }
 ],
 "metadata": {
  "kernelspec": {
   "display_name": "Python 3",
   "language": "python",
   "name": "python3"
  },
  "language_info": {
   "codemirror_mode": {
    "name": "ipython",
    "version": 3
   },
   "file_extension": ".py",
   "mimetype": "text/x-python",
   "name": "python",
   "nbconvert_exporter": "python",
   "pygments_lexer": "ipython3",
   "version": "3.7.1"
  }
 },
 "nbformat": 4,
 "nbformat_minor": 2
}
