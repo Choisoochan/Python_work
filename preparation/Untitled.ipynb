{
 "cells": [
  {
   "cell_type": "code",
   "execution_count": 2,
   "metadata": {},
   "outputs": [],
   "source": [
    "import os\n",
    "import requests #Used to service API connection\n",
    "from lxml import html #Used to parse XML\n",
    "from bs4 import BeautifulSoup #Used to read XML table on webpage\n",
    "import pandas as pd\n",
    "from pandas.io.json import json_normalize\n",
    "\n",
    "def makeURL(myUrl, myKey, myParameter , op, para1, para2):\n",
    "    # myUrl = \"http://192.168.1.120/index.php?\"\n",
    "    url = myUrl + '/'+op + \"?ServiceKey=\" + myKey + \"&\" + myParameter + 'sigunguCd=' + para1 + '&bjdongCd=' + para2\n",
    "\n",
    "    url = url.rstrip('&')\n",
    "    return url\n",
    "\n",
    "def xmlProcess(url):\n",
    "    response = requests.get(url)\n",
    "    # Check if page is up\n",
    "    if response.status_code == 200:\n",
    "        # Convert webpage to %Data\n",
    "        Data = BeautifulSoup(response.text, 'lxml-xml')\n",
    "        result = []\n",
    "        rows = 0\n",
    "        columnName = []\n",
    "        # search Item all item tag\n",
    "        iterData = Data.find_all('item')\n",
    "        for item in iterData:\n",
    "            item_list = []\n",
    "            # Fill the value in one row\n",
    "            for tag in item.find_all():\n",
    "                try:\n",
    "                    tagname = tag.name\n",
    "                    if rows == 0:\n",
    "                        columnName.append(tagname)\n",
    "                    item_list.append(item.find(tagname).text)\n",
    "                except Exception as e:\n",
    "                    print(\"This row will be ignored. \", item_list)\n",
    "            rows = rows + 1\n",
    "            result.append(item_list)\n",
    "#             try:\n",
    "#                 result.append(item_list)\n",
    "#             except Exception as e:\n",
    "#                 return pd.DataFrame()\n",
    "    finalResult = pd.DataFrame(result)\n",
    "    finalResult.columns = columnName\n",
    "#     print(finalResult)\n",
    "    return finalResult\n",
    "\n",
    "\n",
    "def jsonProcess(url):\n",
    "\n",
    "    # 정상 여부 확인 (200 정상)\n",
    "    response = requests.get(url)\n",
    "    # JSON 데이터 획득\n",
    "    json = response.json()\n",
    "    # PandasDataframe변환\n",
    "    df = json_normalize(json)\n",
    "    return df\n",
    "\n",
    "def csvProcess(url):\n",
    "\n",
    "    # 정상 여부 확인 (200 정상)\n",
    "    response = requests.get(url)\n",
    "\n",
    "    df = pd.read_csv(url, encoding=\"ms949\")\n",
    "    return df\n",
    "\n",
    "def createFolder(directory):\n",
    "    try:\n",
    "        if not os.path.exists(directory):\n",
    "            os.makedirs(directory)\n",
    "    except OSError:\n",
    "        print ('Error: Creating directory. ' +  directory)"
   ]
  },
  {
   "cell_type": "code",
   "execution_count": 14,
   "metadata": {},
   "outputs": [
    {
     "data": {
      "text/plain": [
       "''"
      ]
     },
     "execution_count": 14,
     "metadata": {},
     "output_type": "execute_result"
    }
   ],
   "source": []
  },
  {
   "cell_type": "code",
   "execution_count": 17,
   "metadata": {},
   "outputs": [
    {
     "name": "stdout",
     "output_type": "stream",
     "text": [
      "### The total number of target data is 417\n",
      "                                                   사이트\n",
      "0                                                  abc\n",
      "305  https://www.data.go.kr/dataset/fileDownload.do...\n",
      "306  http://openapi.kab.co.kr/OpenAPI_ToolInstallPa...\n",
      "308  http://apis.data.go.kr/1611000/nsdi/BuildingUs...\n",
      "313         https://data.myhome.go.kr/rentalHouseList?\n",
      "318  http://openapi.kab.co.kr/OpenAPI_ToolInstallPa...\n",
      "319  http://openapi.kab.co.kr/OpenAPI_ToolInstallPa...\n",
      "340      http://apis.data.go.kr/1611000/ArchPmsService\n",
      "342  http://fsc.go.kr/downManager?bbsid=BBS0069&no=...\n",
      "345  http://apis.data.go.kr/1611000/ArchPmsService/...\n",
      "349  http://data.insight.go.kr/openapi/service/Pric...\n",
      "352  http://openapi.molit.go.kr/OpenAPI_ToolInstall...\n",
      "354  http://openapi.kab.co.kr/OpenAPI_ToolInstallPa...\n",
      "355  https://www.data.go.kr/dataset/fileDownload.do...\n",
      "359  http://openapi.kab.co.kr/OpenAPI_ToolInstallPa...\n",
      "360  http://api.hf.go.kr:8090/service/rest/HfMbsInt...\n",
      "361  http://api.hf.go.kr:8090/service/rest/HfMbbInt...\n",
      "363  https://www.data.go.kr/dataset/fileDownload.do...\n",
      "376  https://www.data.go.kr/dataset/fileDownload.do...\n",
      "377  http://api.hf.go.kr:8090/service/rest/uloanrat...\n",
      "378  https://www.data.go.kr/dataset/fileDownload.do...\n",
      "379  http://api.hf.go.kr:8090/service/rest/conforml...\n",
      "389  http://openapi.kab.co.kr/OpenAPI_ToolInstallPa...\n",
      "390  https://www.data.go.kr/subMain.jsp#/L3B1YnIvcG...\n",
      "414  http://openapi.kab.co.kr/OpenAPI_ToolInstallPa...\n",
      "### The total number of filtered data is 25\n",
      "['getApBasisOulnInfo', 'getApDongOulnInfo', 'getApFlrOulnInfo', 'getApHoOulnInfo', 'getApImprprInfo', 'getApHdcrMgmRgstInfo', 'getApDemolExtngMgmRgstInfo', 'getApTmpBldInfo', 'getApWclfInfo', 'getApPklotInfo', 'getApAtchPklotInfo', 'getApExposPubuseAreaInfo', 'getApHoExposPubuseAreaInfo', 'getApJijiguInfo', 'getApRoadRgstInfo', 'getApPlatPlcInfo', 'getApHsTpInfo']\n",
      "http://apis.data.go.kr/1611000/ArchPmsService/getApBasisOulnInfo?ServiceKey=ufe1cXhfaa3SBtlsFh402kse1ctLxx0%2BxZU0NDXcW6KST%2BIRc2HMgfJMC2%2BJ9vwZqCjCZvIyvusJfRZdESfOIA%3D%3D&sigunguCd=11110&bjdongCd=00000\n",
      "http://apis.data.go.kr/1611000/ArchPmsService/getApBasisOulnInfo?ServiceKey=ufe1cXhfaa3SBtlsFh402kse1ctLxx0%2BxZU0NDXcW6KST%2BIRc2HMgfJMC2%2BJ9vwZqCjCZvIyvusJfRZdESfOIA%3D%3D&sigunguCd=11110&bjdongCd=10100\n",
      "['http://apis.data.go.kr/1611000/ArchPmsService/getApBasisOulnInfo?ServiceKey=ufe1cXhfaa3SBtlsFh402kse1ctLxx0%2BxZU0NDXcW6KST%2BIRc2HMgfJMC2%2BJ9vwZqCjCZvIyvusJfRZdESfOIA%3D%3D&sigunguCd=11000&bjdongCd=00000', 'http://apis.data.go.kr/1611000/ArchPmsService/getApBasisOulnInfo?ServiceKey=ufe1cXhfaa3SBtlsFh402kse1ctLxx0%2BxZU0NDXcW6KST%2BIRc2HMgfJMC2%2BJ9vwZqCjCZvIyvusJfRZdESfOIA%3D%3D&sigunguCd=11110&bjdongCd=00000', 'http://apis.data.go.kr/1611000/ArchPmsService/getApBasisOulnInfo?ServiceKey=ufe1cXhfaa3SBtlsFh402kse1ctLxx0%2BxZU0NDXcW6KST%2BIRc2HMgfJMC2%2BJ9vwZqCjCZvIyvusJfRZdESfOIA%3D%3D&sigunguCd=11110&bjdongCd=10100', 'http://apis.data.go.kr/1611000/ArchPmsService/getApBasisOulnInfo?ServiceKey=ufe1cXhfaa3SBtlsFh402kse1ctLxx0%2BxZU0NDXcW6KST%2BIRc2HMgfJMC2%2BJ9vwZqCjCZvIyvusJfRZdESfOIA%3D%3D&sigunguCd=11110&bjdongCd=10200', 'http://apis.data.go.kr/1611000/ArchPmsService/getApBasisOulnInfo?ServiceKey=ufe1cXhfaa3SBtlsFh402kse1ctLxx0%2BxZU0NDXcW6KST%2BIRc2HMgfJMC2%2BJ9vwZqCjCZvIyvusJfRZdESfOIA%3D%3D&sigunguCd=11110&bjdongCd=10300', 'http://apis.data.go.kr/1611000/ArchPmsService/getApBasisOulnInfo?ServiceKey=ufe1cXhfaa3SBtlsFh402kse1ctLxx0%2BxZU0NDXcW6KST%2BIRc2HMgfJMC2%2BJ9vwZqCjCZvIyvusJfRZdESfOIA%3D%3D&sigunguCd=11110&bjdongCd=10400', 'http://apis.data.go.kr/1611000/ArchPmsService/getApBasisOulnInfo?ServiceKey=ufe1cXhfaa3SBtlsFh402kse1ctLxx0%2BxZU0NDXcW6KST%2BIRc2HMgfJMC2%2BJ9vwZqCjCZvIyvusJfRZdESfOIA%3D%3D&sigunguCd=11110&bjdongCd=10500', 'http://apis.data.go.kr/1611000/ArchPmsService/getApBasisOulnInfo?ServiceKey=ufe1cXhfaa3SBtlsFh402kse1ctLxx0%2BxZU0NDXcW6KST%2BIRc2HMgfJMC2%2BJ9vwZqCjCZvIyvusJfRZdESfOIA%3D%3D&sigunguCd=11110&bjdongCd=10600', 'http://apis.data.go.kr/1611000/ArchPmsService/getApBasisOulnInfo?ServiceKey=ufe1cXhfaa3SBtlsFh402kse1ctLxx0%2BxZU0NDXcW6KST%2BIRc2HMgfJMC2%2BJ9vwZqCjCZvIyvusJfRZdESfOIA%3D%3D&sigunguCd=11110&bjdongCd=10700']\n"
     ]
    }
   ],
   "source": [
    "import requests #Used to service API connection\n",
    "from lxml import html #Used to parse XML\n",
    "from bs4 import BeautifulSoup #Used to read XML table on webpage\n",
    "import pandas as pd\n",
    "# from common import cFunction as cf\n",
    "import numpy as np\n",
    "import wget\n",
    "\n",
    "# get dataList from filesystem to load and write\n",
    "#dataList = pd.read_excel(\"../../data/inbound/dataList.xlsx\")\n",
    "\n",
    "# get dataList from spreadsheet to load and write\n",
    "dataList = pd.read_csv(\"https://docs.google.com/spreadsheets/d/1VngqG-m7G8k1587c21MZoheR1Fz3amp1mJtiBvA1Jb0/export?format=csv&gid=0\")\n",
    "print(\"### The total number of target data is \" + str(len(dataList)))\n",
    "\n",
    "# Filtering -> get dataList only defined url\n",
    "dataList = dataList[   dataList['사이트'].notnull() ]\n",
    "print(dataList[[\"사이트\"]])\n",
    "print(\"### The total number of filtered data is \" + str(len(dataList)))\n",
    "\n",
    "###################################################\n",
    "# Filtering -> for your own object\n",
    "# dataList = dataList[   dataList['번호'] == \"339\" ]\n",
    "###################################################\n",
    "\n",
    "# create folder to save result\n",
    "outPath = \"../../data/outbound/\"\n",
    "folderList = dataList[\"폴더명\"].tolist()\n",
    "for i in folderList:\n",
    "    createFolder(outPath+i)\n",
    "\n",
    "dataList = dataList.fillna(\"\")\n",
    "dataList = dataList.reset_index(drop=True)\n",
    "\n",
    "\n",
    "# get dataList to load and write\n",
    "for dataCount in range(0,len(dataList)):\n",
    "    if dataCount == 7:\n",
    "        inputUrl = dataList.loc[dataCount, \"사이트\"]\n",
    "        inputKey = dataList.loc[dataCount, \"서비스키\"]\n",
    "        inputParameter = dataList.loc[dataCount, \"파라미터\"]\n",
    "        inputFolder = dataList.loc[dataCount, \"폴더명\"]\n",
    "        inputFile = dataList.loc[dataCount, \"서비스명\"]\n",
    "        inputFile = inputFile.split('&')\n",
    "        inputDataType = dataList.loc[dataCount, \"데이터타입\"]\n",
    "        inputRefUrl = dataList.loc[dataCount, \"참고문서\"]\n",
    "        inputRefType = dataList.loc[dataCount, \"참고문서타입\"]\n",
    "#     print(inputUrl)\n",
    "\n",
    "print(inputFile)\n",
    "\n",
    "urlList = []\n",
    "codeDF = pd.read_csv('../dataset/testApi.csv', encoding='ms949')\n",
    "codeDF['법정동코드'] = codeDF['법정동코드'].astype(str)\n",
    "len(codeDF)\n",
    "\n",
    "#     paraList = []\n",
    "#     for i in codeDF['법정동코드']:\n",
    "#         sigunguCd = codeDF['법정동코드'].str[:5]\n",
    "#         bjdongCd = codeDF['법정동코드'].str[5:]\n",
    "#         paraList += [sigunguCd, bjdongCd]\n",
    "# print(paraList)\n",
    "# test = pd.DataFrame(paraList)\n",
    "# test.head()\n",
    "#     test.to_csv('./cut.csv')\n",
    "for i in inputFile:\n",
    "    for j in codeDF['법정동코드'].astype(str):\n",
    "        a = j[:5]\n",
    "        b = j[5:]\n",
    "        url = makeURL(inputUrl,inputKey,inputParameter, i, a, b)\n",
    "        urlList.append(url)\n",
    "#         print(\"fullUrl is \" + url)\n",
    "print(urlList[1])\n",
    "print(urlList[2])\n",
    "\n",
    "# newDf = pd.DataFrame()\n",
    "testList = []\n",
    "for i in codeDF['법정동코드'].astype(str):\n",
    "    a = i[:5]\n",
    "    b = i[5:]\n",
    "    url = makeURL(inputUrl,inputKey,inputParameter,inputFile[0], a, b)\n",
    "    testList.append(url)\n",
    "    \n",
    "print(testList)    \n",
    "    \n",
    "    \n",
    "# tempData1 = xmlProcess(urlList[1])\n",
    "# tempData2 = xmlProcess(urlList[2])\n",
    "    \n",
    "# mergedata = pd.concat([tempData1,tempData2], axis=0)"
   ]
  },
  {
   "cell_type": "code",
   "execution_count": 18,
   "metadata": {},
   "outputs": [
    {
     "data": {
      "text/plain": [
       "'getApBasisOulnInfo'"
      ]
     },
     "execution_count": 18,
     "metadata": {},
     "output_type": "execute_result"
    }
   ],
   "source": [
    "inputFile[0]"
   ]
  },
  {
   "cell_type": "code",
   "execution_count": 19,
   "metadata": {},
   "outputs": [],
   "source": [
    "tempDF = pd.DataFrame()\n",
    "for i in testList:\n",
    "    try:\n",
    "        temtem = xmlProcess(i)\n",
    "        tempDF = pd.concat([tempDF, temtem], axis = 0)\n",
    "    except Exception as e:\n",
    "        print(i)\n",
    "        "
   ]
  },
  {
   "cell_type": "code",
   "execution_count": 20,
   "metadata": {
    "scrolled": true
   },
   "outputs": [
    {
     "data": {
      "text/html": [
       "<div>\n",
       "<style scoped>\n",
       "    .dataframe tbody tr th:only-of-type {\n",
       "        vertical-align: middle;\n",
       "    }\n",
       "\n",
       "    .dataframe tbody tr th {\n",
       "        vertical-align: top;\n",
       "    }\n",
       "\n",
       "    .dataframe thead th {\n",
       "        text-align: right;\n",
       "    }\n",
       "</style>\n",
       "<table border=\"1\" class=\"dataframe\">\n",
       "  <thead>\n",
       "    <tr style=\"text-align: right;\">\n",
       "      <th></th>\n",
       "    </tr>\n",
       "  </thead>\n",
       "  <tbody>\n",
       "  </tbody>\n",
       "</table>\n",
       "</div>"
      ],
      "text/plain": [
       "Empty DataFrame\n",
       "Columns: []\n",
       "Index: []"
      ]
     },
     "execution_count": 20,
     "metadata": {},
     "output_type": "execute_result"
    }
   ],
   "source": [
    "tempDF.head()"
   ]
  },
  {
   "cell_type": "code",
   "execution_count": null,
   "metadata": {},
   "outputs": [],
   "source": []
  }
 ],
 "metadata": {
  "kernelspec": {
   "display_name": "Python 3",
   "language": "python",
   "name": "python3"
  },
  "language_info": {
   "codemirror_mode": {
    "name": "ipython",
    "version": 3
   },
   "file_extension": ".py",
   "mimetype": "text/x-python",
   "name": "python",
   "nbconvert_exporter": "python",
   "pygments_lexer": "ipython3",
   "version": "3.7.1"
  }
 },
 "nbformat": 4,
 "nbformat_minor": 2
}
